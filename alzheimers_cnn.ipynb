{
 "cells": [
  {
   "cell_type": "code",
   "execution_count": 1,
   "id": "8c5ee04d",
   "metadata": {},
   "outputs": [
    {
     "name": "stdout",
     "output_type": "stream",
     "text": [
      "Requirement already satisfied: nibabel in /home/christianc102/.local/lib/python3.8/site-packages (5.1.0)\n",
      "Requirement already satisfied: importlib-resources>=1.3; python_version < \"3.9\" in /usr/local/lib/python3.8/dist-packages (from nibabel) (5.9.0)\n",
      "Requirement already satisfied: packaging>=17 in /home/christianc102/.local/lib/python3.8/site-packages (from nibabel) (21.3)\n",
      "Requirement already satisfied: numpy>=1.19 in /home/christianc102/.local/lib/python3.8/site-packages (from nibabel) (1.22.4)\n",
      "Requirement already satisfied: zipp>=3.1.0; python_version < \"3.10\" in /home/christianc102/.local/lib/python3.8/site-packages (from importlib-resources>=1.3; python_version < \"3.9\"->nibabel) (3.17.0)\n",
      "Requirement already satisfied: pyparsing!=3.0.5,>=2.0.2 in /home/christianc102/.local/lib/python3.8/site-packages (from packaging>=17->nibabel) (3.0.9)\n",
      "Note: you may need to restart the kernel to use updated packages.\n",
      "Requirement already satisfied: torchvision in /home/christianc102/.local/lib/python3.8/site-packages (0.16.1)\n",
      "Requirement already satisfied: pillow!=8.3.*,>=5.3.0 in /home/christianc102/.local/lib/python3.8/site-packages (from torchvision) (9.1.1)\n",
      "Requirement already satisfied: numpy in /home/christianc102/.local/lib/python3.8/site-packages (from torchvision) (1.22.4)\n",
      "Requirement already satisfied: torch==2.1.1 in /home/christianc102/.local/lib/python3.8/site-packages (from torchvision) (2.1.1)\n",
      "Requirement already satisfied: requests in /usr/lib/python3/dist-packages (from torchvision) (2.22.0)\n",
      "Requirement already satisfied: nvidia-curand-cu12==10.3.2.106; platform_system == \"Linux\" and platform_machine == \"x86_64\" in /home/christianc102/.local/lib/python3.8/site-packages (from torch==2.1.1->torchvision) (10.3.2.106)\n",
      "Requirement already satisfied: nvidia-cusparse-cu12==12.1.0.106; platform_system == \"Linux\" and platform_machine == \"x86_64\" in /home/christianc102/.local/lib/python3.8/site-packages (from torch==2.1.1->torchvision) (12.1.0.106)\n",
      "Requirement already satisfied: nvidia-nccl-cu12==2.18.1; platform_system == \"Linux\" and platform_machine == \"x86_64\" in /home/christianc102/.local/lib/python3.8/site-packages (from torch==2.1.1->torchvision) (2.18.1)\n",
      "Requirement already satisfied: sympy in /home/christianc102/.local/lib/python3.8/site-packages (from torch==2.1.1->torchvision) (1.12)\n",
      "Requirement already satisfied: nvidia-cuda-nvrtc-cu12==12.1.105; platform_system == \"Linux\" and platform_machine == \"x86_64\" in /home/christianc102/.local/lib/python3.8/site-packages (from torch==2.1.1->torchvision) (12.1.105)\n",
      "Requirement already satisfied: nvidia-nvtx-cu12==12.1.105; platform_system == \"Linux\" and platform_machine == \"x86_64\" in /home/christianc102/.local/lib/python3.8/site-packages (from torch==2.1.1->torchvision) (12.1.105)\n",
      "Requirement already satisfied: nvidia-cufft-cu12==11.0.2.54; platform_system == \"Linux\" and platform_machine == \"x86_64\" in /home/christianc102/.local/lib/python3.8/site-packages (from torch==2.1.1->torchvision) (11.0.2.54)\n",
      "Requirement already satisfied: typing-extensions in /home/christianc102/.local/lib/python3.8/site-packages (from torch==2.1.1->torchvision) (4.2.0)\n",
      "Requirement already satisfied: nvidia-cusolver-cu12==11.4.5.107; platform_system == \"Linux\" and platform_machine == \"x86_64\" in /home/christianc102/.local/lib/python3.8/site-packages (from torch==2.1.1->torchvision) (11.4.5.107)\n",
      "Requirement already satisfied: filelock in /home/christianc102/.local/lib/python3.8/site-packages (from torch==2.1.1->torchvision) (3.13.1)\n",
      "Requirement already satisfied: nvidia-cudnn-cu12==8.9.2.26; platform_system == \"Linux\" and platform_machine == \"x86_64\" in /home/christianc102/.local/lib/python3.8/site-packages (from torch==2.1.1->torchvision) (8.9.2.26)\n",
      "Requirement already satisfied: triton==2.1.0; platform_system == \"Linux\" and platform_machine == \"x86_64\" in /home/christianc102/.local/lib/python3.8/site-packages (from torch==2.1.1->torchvision) (2.1.0)\n",
      "Requirement already satisfied: nvidia-cublas-cu12==12.1.3.1; platform_system == \"Linux\" and platform_machine == \"x86_64\" in /home/christianc102/.local/lib/python3.8/site-packages (from torch==2.1.1->torchvision) (12.1.3.1)\n",
      "Requirement already satisfied: nvidia-cuda-cupti-cu12==12.1.105; platform_system == \"Linux\" and platform_machine == \"x86_64\" in /home/christianc102/.local/lib/python3.8/site-packages (from torch==2.1.1->torchvision) (12.1.105)\n",
      "Requirement already satisfied: jinja2 in /home/christianc102/.local/lib/python3.8/site-packages (from torch==2.1.1->torchvision) (3.1.2)\n",
      "Requirement already satisfied: networkx in /home/christianc102/.local/lib/python3.8/site-packages (from torch==2.1.1->torchvision) (3.1)\n",
      "Requirement already satisfied: nvidia-cuda-runtime-cu12==12.1.105; platform_system == \"Linux\" and platform_machine == \"x86_64\" in /home/christianc102/.local/lib/python3.8/site-packages (from torch==2.1.1->torchvision) (12.1.105)\n",
      "Requirement already satisfied: fsspec in /home/christianc102/.local/lib/python3.8/site-packages (from torch==2.1.1->torchvision) (2023.10.0)\n",
      "Requirement already satisfied: nvidia-nvjitlink-cu12 in /home/christianc102/.local/lib/python3.8/site-packages (from nvidia-cusparse-cu12==12.1.0.106; platform_system == \"Linux\" and platform_machine == \"x86_64\"->torch==2.1.1->torchvision) (12.3.101)\n",
      "Requirement already satisfied: mpmath>=0.19 in /home/christianc102/.local/lib/python3.8/site-packages (from sympy->torch==2.1.1->torchvision) (1.3.0)\n",
      "Requirement already satisfied: MarkupSafe>=2.0 in /home/christianc102/.local/lib/python3.8/site-packages (from jinja2->torch==2.1.1->torchvision) (2.1.1)\n",
      "Note: you may need to restart the kernel to use updated packages.\n"
     ]
    }
   ],
   "source": [
    "import numpy as np\n",
    "import pandas as pd\n",
    "import matplotlib.pyplot as plt\n",
    "import glob\n",
    "%pip install nibabel\n",
    "import nibabel as nib\n",
    "import torch\n",
    "import torch.nn as nn\n",
    "import torch.nn.functional as F\n",
    "from torch import optim\n",
    "from torch.utils.data import Dataset, DataLoader\n",
    "%pip install torchvision\n",
    "from torchvision import transforms, utils\n",
    "import os\n",
    "from scipy import ndimage\n",
    "from tqdm import tqdm"
   ]
  },
  {
   "cell_type": "code",
   "execution_count": 2,
   "id": "2f87720e",
   "metadata": {},
   "outputs": [
    {
     "data": {
      "text/html": [
       "<div>\n",
       "<style scoped>\n",
       "    .dataframe tbody tr th:only-of-type {\n",
       "        vertical-align: middle;\n",
       "    }\n",
       "\n",
       "    .dataframe tbody tr th {\n",
       "        vertical-align: top;\n",
       "    }\n",
       "\n",
       "    .dataframe thead th {\n",
       "        text-align: right;\n",
       "    }\n",
       "</style>\n",
       "<table border=\"1\" class=\"dataframe\">\n",
       "  <thead>\n",
       "    <tr style=\"text-align: right;\">\n",
       "      <th></th>\n",
       "      <th>Image Data ID</th>\n",
       "      <th>Subject</th>\n",
       "      <th>Group</th>\n",
       "      <th>Sex</th>\n",
       "      <th>Age</th>\n",
       "      <th>Visit</th>\n",
       "      <th>Modality</th>\n",
       "      <th>Description</th>\n",
       "      <th>Type</th>\n",
       "      <th>Acq Date</th>\n",
       "      <th>Format</th>\n",
       "      <th>Downloaded</th>\n",
       "    </tr>\n",
       "  </thead>\n",
       "  <tbody>\n",
       "    <tr>\n",
       "      <th>0</th>\n",
       "      <td>I40657</td>\n",
       "      <td>002_S_0413</td>\n",
       "      <td>0</td>\n",
       "      <td>F</td>\n",
       "      <td>76</td>\n",
       "      <td>bl</td>\n",
       "      <td>MRI</td>\n",
       "      <td>MPR; ; N3; Scaled</td>\n",
       "      <td>Processed</td>\n",
       "      <td>5/19/2006</td>\n",
       "      <td>NiFTI</td>\n",
       "      <td>11/25/2023</td>\n",
       "    </tr>\n",
       "    <tr>\n",
       "      <th>1</th>\n",
       "      <td>I45126</td>\n",
       "      <td>002_S_0559</td>\n",
       "      <td>0</td>\n",
       "      <td>M</td>\n",
       "      <td>79</td>\n",
       "      <td>bl</td>\n",
       "      <td>MRI</td>\n",
       "      <td>MPR; ; N3; Scaled</td>\n",
       "      <td>Processed</td>\n",
       "      <td>6/27/2006</td>\n",
       "      <td>NiFTI</td>\n",
       "      <td>11/25/2023</td>\n",
       "    </tr>\n",
       "    <tr>\n",
       "      <th>2</th>\n",
       "      <td>I40726</td>\n",
       "      <td>002_S_0816</td>\n",
       "      <td>2</td>\n",
       "      <td>M</td>\n",
       "      <td>71</td>\n",
       "      <td>bl</td>\n",
       "      <td>MRI</td>\n",
       "      <td>MPR; ; N3; Scaled</td>\n",
       "      <td>Processed</td>\n",
       "      <td>9/29/2006</td>\n",
       "      <td>NiFTI</td>\n",
       "      <td>11/25/2023</td>\n",
       "    </tr>\n",
       "    <tr>\n",
       "      <th>3</th>\n",
       "      <td>I40749</td>\n",
       "      <td>002_S_0954</td>\n",
       "      <td>1</td>\n",
       "      <td>F</td>\n",
       "      <td>70</td>\n",
       "      <td>bl</td>\n",
       "      <td>MRI</td>\n",
       "      <td>MPR; ; N3; Scaled</td>\n",
       "      <td>Processed</td>\n",
       "      <td>11/08/2006</td>\n",
       "      <td>NiFTI</td>\n",
       "      <td>11/25/2023</td>\n",
       "    </tr>\n",
       "    <tr>\n",
       "      <th>4</th>\n",
       "      <td>I40828</td>\n",
       "      <td>002_S_1018</td>\n",
       "      <td>2</td>\n",
       "      <td>F</td>\n",
       "      <td>71</td>\n",
       "      <td>bl</td>\n",
       "      <td>MRI</td>\n",
       "      <td>MPR; ; N3; Scaled</td>\n",
       "      <td>Processed</td>\n",
       "      <td>12/18/2006</td>\n",
       "      <td>NiFTI</td>\n",
       "      <td>11/25/2023</td>\n",
       "    </tr>\n",
       "    <tr>\n",
       "      <th>...</th>\n",
       "      <td>...</td>\n",
       "      <td>...</td>\n",
       "      <td>...</td>\n",
       "      <td>...</td>\n",
       "      <td>...</td>\n",
       "      <td>...</td>\n",
       "      <td>...</td>\n",
       "      <td>...</td>\n",
       "      <td>...</td>\n",
       "      <td>...</td>\n",
       "      <td>...</td>\n",
       "      <td>...</td>\n",
       "    </tr>\n",
       "    <tr>\n",
       "      <th>117</th>\n",
       "      <td>I40269</td>\n",
       "      <td>136_S_0196</td>\n",
       "      <td>0</td>\n",
       "      <td>F</td>\n",
       "      <td>78</td>\n",
       "      <td>bl</td>\n",
       "      <td>MRI</td>\n",
       "      <td>MPR; ; N3; Scaled</td>\n",
       "      <td>Processed</td>\n",
       "      <td>5/01/2006</td>\n",
       "      <td>NiFTI</td>\n",
       "      <td>11/25/2023</td>\n",
       "    </tr>\n",
       "    <tr>\n",
       "      <th>118</th>\n",
       "      <td>I40323</td>\n",
       "      <td>136_S_0299</td>\n",
       "      <td>2</td>\n",
       "      <td>F</td>\n",
       "      <td>89</td>\n",
       "      <td>bl</td>\n",
       "      <td>MRI</td>\n",
       "      <td>MPR-R; ; N3; Scaled</td>\n",
       "      <td>Processed</td>\n",
       "      <td>5/12/2006</td>\n",
       "      <td>NiFTI</td>\n",
       "      <td>11/25/2023</td>\n",
       "    </tr>\n",
       "    <tr>\n",
       "      <th>119</th>\n",
       "      <td>I40352</td>\n",
       "      <td>136_S_0300</td>\n",
       "      <td>2</td>\n",
       "      <td>M</td>\n",
       "      <td>57</td>\n",
       "      <td>bl</td>\n",
       "      <td>MRI</td>\n",
       "      <td>MPR-R; ; N3; Scaled</td>\n",
       "      <td>Processed</td>\n",
       "      <td>6/07/2006</td>\n",
       "      <td>NiFTI</td>\n",
       "      <td>11/25/2023</td>\n",
       "    </tr>\n",
       "    <tr>\n",
       "      <th>120</th>\n",
       "      <td>I40392</td>\n",
       "      <td>136_S_0429</td>\n",
       "      <td>1</td>\n",
       "      <td>M</td>\n",
       "      <td>63</td>\n",
       "      <td>bl</td>\n",
       "      <td>MRI</td>\n",
       "      <td>MPR; ; N3; Scaled</td>\n",
       "      <td>Processed</td>\n",
       "      <td>6/27/2006</td>\n",
       "      <td>NiFTI</td>\n",
       "      <td>11/25/2023</td>\n",
       "    </tr>\n",
       "    <tr>\n",
       "      <th>121</th>\n",
       "      <td>I66824</td>\n",
       "      <td>136_S_1227</td>\n",
       "      <td>1</td>\n",
       "      <td>F</td>\n",
       "      <td>65</td>\n",
       "      <td>bl</td>\n",
       "      <td>MRI</td>\n",
       "      <td>MPR; ; N3; Scaled</td>\n",
       "      <td>Processed</td>\n",
       "      <td>2/21/2007</td>\n",
       "      <td>NiFTI</td>\n",
       "      <td>11/25/2023</td>\n",
       "    </tr>\n",
       "  </tbody>\n",
       "</table>\n",
       "<p>122 rows × 12 columns</p>\n",
       "</div>"
      ],
      "text/plain": [
       "    Image Data ID     Subject  Group Sex  Age Visit Modality  \\\n",
       "0          I40657  002_S_0413      0   F   76    bl      MRI   \n",
       "1          I45126  002_S_0559      0   M   79    bl      MRI   \n",
       "2          I40726  002_S_0816      2   M   71    bl      MRI   \n",
       "3          I40749  002_S_0954      1   F   70    bl      MRI   \n",
       "4          I40828  002_S_1018      2   F   71    bl      MRI   \n",
       "..            ...         ...    ...  ..  ...   ...      ...   \n",
       "117        I40269  136_S_0196      0   F   78    bl      MRI   \n",
       "118        I40323  136_S_0299      2   F   89    bl      MRI   \n",
       "119        I40352  136_S_0300      2   M   57    bl      MRI   \n",
       "120        I40392  136_S_0429      1   M   63    bl      MRI   \n",
       "121        I66824  136_S_1227      1   F   65    bl      MRI   \n",
       "\n",
       "             Description       Type    Acq Date Format  Downloaded  \n",
       "0      MPR; ; N3; Scaled  Processed   5/19/2006  NiFTI  11/25/2023  \n",
       "1      MPR; ; N3; Scaled  Processed   6/27/2006  NiFTI  11/25/2023  \n",
       "2      MPR; ; N3; Scaled  Processed   9/29/2006  NiFTI  11/25/2023  \n",
       "3      MPR; ; N3; Scaled  Processed  11/08/2006  NiFTI  11/25/2023  \n",
       "4      MPR; ; N3; Scaled  Processed  12/18/2006  NiFTI  11/25/2023  \n",
       "..                   ...        ...         ...    ...         ...  \n",
       "117    MPR; ; N3; Scaled  Processed   5/01/2006  NiFTI  11/25/2023  \n",
       "118  MPR-R; ; N3; Scaled  Processed   5/12/2006  NiFTI  11/25/2023  \n",
       "119  MPR-R; ; N3; Scaled  Processed   6/07/2006  NiFTI  11/25/2023  \n",
       "120    MPR; ; N3; Scaled  Processed   6/27/2006  NiFTI  11/25/2023  \n",
       "121    MPR; ; N3; Scaled  Processed   2/21/2007  NiFTI  11/25/2023  \n",
       "\n",
       "[122 rows x 12 columns]"
      ]
     },
     "execution_count": 2,
     "metadata": {},
     "output_type": "execute_result"
    }
   ],
   "source": [
    "df = pd.read_csv(\"./ADNI1_Baseline_3T_11_25_2023.csv\")\n",
    "df = df.dropna()\n",
    "labels = {\"CN\": 0, \"MCI\": 1, \"AD\": 2}\n",
    "df['Group'] = df['Group'].apply(lambda x: labels[x])\n",
    "train_df = df.sample(frac=0.8, axis=0).sort_values(\"Subject\").reset_index(drop=True)\n",
    "test_df = df.loc[~df.index.isin(train_df.index)].sort_values(\"Subject\").reset_index(drop=True)\n",
    "train_df"
   ]
  },
  {
   "cell_type": "code",
   "execution_count": 3,
   "id": "ea29d5f1",
   "metadata": {},
   "outputs": [],
   "source": [
    "STANDARD_DIM1 = 200\n",
    "STANDARD_DIM2 = 200\n",
    "STANDARD_DIM3 = 150\n",
    "\n",
    "class MRIDataset(Dataset):\n",
    "    \"\"\"MRI dataset from Baseline 3T Scans, ADNI.\"\"\"\n",
    "    \n",
    "    def __init__(self, df, root_dir, transform=None):\n",
    "        \"\"\"\n",
    "        Arguments:\n",
    "            df (pd DataFrame): Each row is a unique subject.\n",
    "            root_dir (string): Directory with all of the images.\n",
    "            transform (callable, optional): Optional transform to be applied on a sample.\n",
    "        \"\"\"\n",
    "        self.data = df\n",
    "        self.root_dir = root_dir\n",
    "        self.transform = transform\n",
    "        \n",
    "    def __len__(self):\n",
    "        return len(self.data)\n",
    "    \n",
    "    def __getitem__(self, idx):\n",
    "        if torch.is_tensor(idx):\n",
    "            idx = idx.tolist()\n",
    "            \n",
    "        mri_file = glob.glob(os.path.join(self.root_dir, self.data['Subject'][idx], '**', '*.nii'), recursive=True)[0]\n",
    "        mri_img = nib.load(mri_file).get_fdata()\n",
    "\n",
    "        image_size = mri_img.shape\n",
    "        current_dim1 = image_size[0]\n",
    "        current_dim2 = image_size[1]\n",
    "        current_dim3 = image_size[2]\n",
    "        scale_factor1 = STANDARD_DIM1 / float(current_dim1)\n",
    "        scale_factor2 = STANDARD_DIM2 / float(current_dim2)\n",
    "        scale_factor3 = STANDARD_DIM3 / float(current_dim3)\n",
    "\n",
    "        mri_img = ndimage.zoom(mri_img, (scale_factor1, scale_factor2, scale_factor3))\n",
    "        mri_tensor = torch.Tensor(mri_img)\n",
    "        mri_tensor = torch.unsqueeze(mri_tensor, dim=0)\n",
    "        label = self.data['Group'][idx]\n",
    "        \n",
    "        if self.transform:\n",
    "            mri_tensor = self.transform(mri_tensor)\n",
    "\n",
    "        return mri_tensor, label"
   ]
  },
  {
   "cell_type": "code",
   "execution_count": 4,
   "id": "a4ac043d",
   "metadata": {},
   "outputs": [],
   "source": [
    "class CNN3D(torch.nn.Module): \n",
    "    def __init__(self):\n",
    "        super().__init__()\n",
    "        self.conv1 = nn.Conv3d(in_channels=1, out_channels=8, kernel_size=3)\n",
    "        self.conv2 = nn.Conv3d(in_channels=8, out_channels=8, kernel_size=3)\n",
    "        self.conv3 = nn.Conv3d(in_channels=8, out_channels=16, kernel_size=3)\n",
    "        self.conv4 = nn.Conv3d(in_channels=16, out_channels=16, kernel_size=3)\n",
    "        self.fc1 = nn.Linear(1201696, 3)\n",
    "\n",
    "    def forward(self, x):\n",
    "        x = F.relu(self.conv1(x))\n",
    "        x = F.relu(self.conv2(x))\n",
    "        x = F.max_pool3d(x, kernel_size=2, stride=2)\n",
    "\n",
    "        x = F.relu(self.conv3(x))\n",
    "        x = F.relu(self.conv4(x))\n",
    "        x = F.max_pool3d(x, kernel_size=2, stride=2)\n",
    "\n",
    "        x = torch.flatten(x, start_dim=1)\n",
    "        x = self.fc1(x)\n",
    "        return x"
   ]
  },
  {
   "cell_type": "code",
   "execution_count": 5,
   "id": "64a22ea9",
   "metadata": {},
   "outputs": [],
   "source": [
    "device = torch.device('cpu')\n",
    "BATCH_SIZE = 4\n",
    "learning_rate = 1e-3"
   ]
  },
  {
   "cell_type": "code",
   "execution_count": 6,
   "id": "8148eb2c",
   "metadata": {},
   "outputs": [],
   "source": [
    "train_dataset = MRIDataset(train_df, root_dir='./data/')\n",
    "test_dataset = MRIDataset(test_df, root_dir='./data/')\n",
    "\n",
    "train_loader = DataLoader(train_dataset, batch_size=BATCH_SIZE, shuffle=True)\n",
    "test_loader = DataLoader(test_dataset, batch_size=BATCH_SIZE, shuffle=True)\n",
    "\n",
    "model = CNN3D().to(device)\n",
    "loss_function = nn.CrossEntropyLoss()\n",
    "optimizer = optim.SGD(model.parameters(), lr=learning_rate)"
   ]
  },
  {
   "cell_type": "code",
   "execution_count": 7,
   "id": "88ba064f",
   "metadata": {},
   "outputs": [
    {
     "name": "stdout",
     "output_type": "stream",
     "text": [
      "=====Epoch 1=====\n"
     ]
    },
    {
     "name": "stderr",
     "output_type": "stream",
     "text": [
      "100%|████████████████████████████████████████████████████████████████████████████████████████████████████| 31/31 [08:38<00:00, 16.71s/it]\n"
     ]
    },
    {
     "name": "stdout",
     "output_type": "stream",
     "text": [
      "Training loss on epoch 1: 7878257508.4768\n",
      "Training Classification Accuracy: 0.4016\n"
     ]
    },
    {
     "name": "stderr",
     "output_type": "stream",
     "text": [
      "100%|████████████████████████████████████████████████████████████████████████████████████████████████████| 14/14 [02:57<00:00, 12.65s/it]\n"
     ]
    },
    {
     "name": "stdout",
     "output_type": "stream",
     "text": [
      "Testing Loss for epoch 1: 1.0977\n",
      "Testing Classification Accuracy: 0.5091\n",
      "=====Epoch 2=====\n"
     ]
    },
    {
     "name": "stderr",
     "output_type": "stream",
     "text": [
      "100%|████████████████████████████████████████████████████████████████████████████████████████████████████| 31/31 [08:51<00:00, 17.13s/it]\n"
     ]
    },
    {
     "name": "stdout",
     "output_type": "stream",
     "text": [
      "Training loss on epoch 2: 1.0975\n",
      "Training Classification Accuracy: 0.4508\n"
     ]
    },
    {
     "name": "stderr",
     "output_type": "stream",
     "text": [
      "100%|████████████████████████████████████████████████████████████████████████████████████████████████████| 14/14 [03:16<00:00, 14.02s/it]\n"
     ]
    },
    {
     "name": "stdout",
     "output_type": "stream",
     "text": [
      "Testing Loss for epoch 2: 1.0965\n",
      "Testing Classification Accuracy: 0.5091\n",
      "=====Epoch 3=====\n"
     ]
    },
    {
     "name": "stderr",
     "output_type": "stream",
     "text": [
      "100%|████████████████████████████████████████████████████████████████████████████████████████████████████| 31/31 [09:25<00:00, 18.25s/it]\n"
     ]
    },
    {
     "name": "stdout",
     "output_type": "stream",
     "text": [
      "Training loss on epoch 3: 1.0965\n",
      "Training Classification Accuracy: 0.4508\n"
     ]
    },
    {
     "name": "stderr",
     "output_type": "stream",
     "text": [
      "100%|████████████████████████████████████████████████████████████████████████████████████████████████████| 14/14 [03:23<00:00, 14.53s/it]\n"
     ]
    },
    {
     "name": "stdout",
     "output_type": "stream",
     "text": [
      "Testing Loss for epoch 3: 1.0952\n",
      "Testing Classification Accuracy: 0.5091\n",
      "=====Epoch 4=====\n"
     ]
    },
    {
     "name": "stderr",
     "output_type": "stream",
     "text": [
      "100%|████████████████████████████████████████████████████████████████████████████████████████████████████| 31/31 [08:19<00:00, 16.12s/it]\n"
     ]
    },
    {
     "name": "stdout",
     "output_type": "stream",
     "text": [
      "Training loss on epoch 4: 1.0956\n",
      "Training Classification Accuracy: 0.4508\n"
     ]
    },
    {
     "name": "stderr",
     "output_type": "stream",
     "text": [
      "100%|████████████████████████████████████████████████████████████████████████████████████████████████████| 14/14 [03:09<00:00, 13.55s/it]\n"
     ]
    },
    {
     "name": "stdout",
     "output_type": "stream",
     "text": [
      "Testing Loss for epoch 4: 1.0941\n",
      "Testing Classification Accuracy: 0.5091\n",
      "=====Epoch 5=====\n"
     ]
    },
    {
     "name": "stderr",
     "output_type": "stream",
     "text": [
      "100%|████████████████████████████████████████████████████████████████████████████████████████████████████| 31/31 [08:09<00:00, 15.80s/it]\n"
     ]
    },
    {
     "name": "stdout",
     "output_type": "stream",
     "text": [
      "Training loss on epoch 5: 1.0948\n",
      "Training Classification Accuracy: 0.4508\n"
     ]
    },
    {
     "name": "stderr",
     "output_type": "stream",
     "text": [
      "100%|████████████████████████████████████████████████████████████████████████████████████████████████████| 14/14 [03:13<00:00, 13.79s/it]\n"
     ]
    },
    {
     "name": "stdout",
     "output_type": "stream",
     "text": [
      "Testing Loss for epoch 5: 1.0928\n",
      "Testing Classification Accuracy: 0.5091\n",
      "=====Epoch 6=====\n"
     ]
    },
    {
     "name": "stderr",
     "output_type": "stream",
     "text": [
      "100%|████████████████████████████████████████████████████████████████████████████████████████████████████| 31/31 [08:23<00:00, 16.25s/it]\n"
     ]
    },
    {
     "name": "stdout",
     "output_type": "stream",
     "text": [
      "Training loss on epoch 6: 1.0941\n",
      "Training Classification Accuracy: 0.4508\n"
     ]
    },
    {
     "name": "stderr",
     "output_type": "stream",
     "text": [
      "100%|████████████████████████████████████████████████████████████████████████████████████████████████████| 14/14 [03:00<00:00, 12.90s/it]\n"
     ]
    },
    {
     "name": "stdout",
     "output_type": "stream",
     "text": [
      "Testing Loss for epoch 6: 1.0918\n",
      "Testing Classification Accuracy: 0.5091\n",
      "=====Epoch 7=====\n"
     ]
    },
    {
     "name": "stderr",
     "output_type": "stream",
     "text": [
      "100%|████████████████████████████████████████████████████████████████████████████████████████████████████| 31/31 [08:41<00:00, 16.83s/it]\n"
     ]
    },
    {
     "name": "stdout",
     "output_type": "stream",
     "text": [
      "Training loss on epoch 7: 1.0930\n",
      "Training Classification Accuracy: 0.4508\n"
     ]
    },
    {
     "name": "stderr",
     "output_type": "stream",
     "text": [
      "100%|████████████████████████████████████████████████████████████████████████████████████████████████████| 14/14 [03:15<00:00, 14.00s/it]\n"
     ]
    },
    {
     "name": "stdout",
     "output_type": "stream",
     "text": [
      "Testing Loss for epoch 7: 1.0907\n",
      "Testing Classification Accuracy: 0.5091\n",
      "=====Epoch 8=====\n"
     ]
    },
    {
     "name": "stderr",
     "output_type": "stream",
     "text": [
      "100%|████████████████████████████████████████████████████████████████████████████████████████████████████| 31/31 [09:16<00:00, 17.96s/it]\n"
     ]
    },
    {
     "name": "stdout",
     "output_type": "stream",
     "text": [
      "Training loss on epoch 8: 1.0926\n",
      "Training Classification Accuracy: 0.4508\n"
     ]
    },
    {
     "name": "stderr",
     "output_type": "stream",
     "text": [
      "100%|████████████████████████████████████████████████████████████████████████████████████████████████████| 14/14 [03:25<00:00, 14.68s/it]\n"
     ]
    },
    {
     "name": "stdout",
     "output_type": "stream",
     "text": [
      "Testing Loss for epoch 8: 1.0896\n",
      "Testing Classification Accuracy: 0.5091\n",
      "=====Epoch 9=====\n"
     ]
    },
    {
     "name": "stderr",
     "output_type": "stream",
     "text": [
      "100%|████████████████████████████████████████████████████████████████████████████████████████████████████| 31/31 [08:20<00:00, 16.14s/it]\n"
     ]
    },
    {
     "name": "stdout",
     "output_type": "stream",
     "text": [
      "Training loss on epoch 9: 1.0917\n",
      "Training Classification Accuracy: 0.4508\n"
     ]
    },
    {
     "name": "stderr",
     "output_type": "stream",
     "text": [
      "100%|████████████████████████████████████████████████████████████████████████████████████████████████████| 14/14 [03:16<00:00, 14.03s/it]\n"
     ]
    },
    {
     "name": "stdout",
     "output_type": "stream",
     "text": [
      "Testing Loss for epoch 9: 1.0887\n",
      "Testing Classification Accuracy: 0.5091\n",
      "=====Epoch 10=====\n"
     ]
    },
    {
     "name": "stderr",
     "output_type": "stream",
     "text": [
      "100%|████████████████████████████████████████████████████████████████████████████████████████████████████| 31/31 [08:36<00:00, 16.67s/it]\n"
     ]
    },
    {
     "name": "stdout",
     "output_type": "stream",
     "text": [
      "Training loss on epoch 10: 1.0904\n",
      "Training Classification Accuracy: 0.4508\n"
     ]
    },
    {
     "name": "stderr",
     "output_type": "stream",
     "text": [
      "100%|████████████████████████████████████████████████████████████████████████████████████████████████████| 14/14 [03:21<00:00, 14.38s/it]"
     ]
    },
    {
     "name": "stdout",
     "output_type": "stream",
     "text": [
      "Testing Loss for epoch 10: 1.0876\n",
      "Testing Classification Accuracy: 0.5091\n"
     ]
    },
    {
     "name": "stderr",
     "output_type": "stream",
     "text": [
      "\n"
     ]
    }
   ],
   "source": [
    "training_losses = []\n",
    "testing_losses = []\n",
    "training_accuracies = []\n",
    "testing_accuracies = []\n",
    "\n",
    "epochs = 10\n",
    "for epoch in range(1, epochs+1):\n",
    "    print(\"=====Epoch %s=====\" % epoch)\n",
    "    training_loss = 0\n",
    "    train_total = 0\n",
    "    train_correct = 0\n",
    "    model.train()\n",
    "    for images, labels in tqdm(train_loader):\n",
    "        optimizer.zero_grad()\n",
    "        outputs = model(images)\n",
    "        loss = loss_function(outputs, labels)\n",
    "        loss.backward()\n",
    "        optimizer.step()\n",
    "        training_loss += loss.item()\n",
    "        train_total += len(images)\n",
    "        correct_indices = outputs.argmax(dim=1) == labels\n",
    "        train_correct += correct_indices.count_nonzero().cpu()\n",
    "    print(\"Training loss on epoch %d: %.4f\" % (epoch, training_loss / len(train_loader)))\n",
    "    training_losses.append(training_loss / len(train_loader))\n",
    "    print(\"Training Classification Accuracy: %.4f\" % (train_correct / train_total))\n",
    "    training_accuracies.append(train_correct / train_total)\n",
    "    model.eval()\n",
    "    test_loss = 0\n",
    "    test_total = 0\n",
    "    test_correct = 0\n",
    "    with torch.no_grad():\n",
    "        for images, labels in tqdm(test_loader):\n",
    "            outputs = model(images)\n",
    "            loss = loss_function(outputs, labels)\n",
    "            test_loss += loss.item()\n",
    "            test_total += len(images)\n",
    "            correct_indices = outputs.argmax(dim=1) == labels\n",
    "            test_correct += correct_indices.count_nonzero().cpu()\n",
    "    print(\"Testing Loss for epoch %d: %.4f\" % (epoch, test_loss / len(test_loader)))\n",
    "    testing_losses.append(test_loss / len(test_loader))\n",
    "    print(\"Testing Classification Accuracy: %.4f\" % (test_correct / test_total))\n",
    "    testing_accuracies.append(test_correct / test_total)"
   ]
  },
  {
   "cell_type": "code",
   "execution_count": 8,
   "id": "0b76b420",
   "metadata": {},
   "outputs": [
    {
     "data": {
      "image/png": "[encoded data removed]",
      "text/plain": [
       "<Figure size 432x288 with 1 Axes>"
      ]
     },
     "metadata": {
      "needs_background": "light"
     },
     "output_type": "display_data"
    },
    {
     "data": {
      "image/png": "[encoded data removed]",
      "text/plain": [
       "<Figure size 432x288 with 1 Axes>"
      ]
     },
     "metadata": {
      "needs_background": "light"
     },
     "output_type": "display_data"
    }
   ],
   "source": [
    "# Plot the Training and Testing Loss and Accuracy\n",
    "plt.plot(training_losses, label=\"Training Loss\")\n",
    "plt.plot(testing_losses, label='Testing Loss')\n",
    "plt.xlabel(\"Epoch\")\n",
    "plt.ylabel(\"Loss\")\n",
    "plt.title(\"Loss\")\n",
    "plt.legend()\n",
    "plt.show()\n",
    "plt.plot(training_accuracies, label=\"Training Accuracy\")\n",
    "plt.plot(testing_accuracies, label='Testing Accuracy')\n",
    "plt.xlabel(\"Epoch\")\n",
    "plt.ylabel(\"Accuracy\")\n",
    "plt.title(\"Testing Accuracy\")\n",
    "plt.ylim(0, 1)\n",
    "plt.show()"
   ]
  },
  {
   "cell_type": "code",
   "execution_count": null,
   "id": "e4bc5629",
   "metadata": {},
   "outputs": [],
   "source": []
  }
 ],
 "metadata": {
  "kernelspec": {
   "display_name": "Python 3 (ipykernel)",
   "language": "python",
   "name": "python3"
  },
  "language_info": {
   "codemirror_mode": {
    "name": "ipython",
    "version": 3
   },
   "file_extension": ".py",
   "mimetype": "text/x-python",
   "name": "python",
   "nbconvert_exporter": "python",
   "pygments_lexer": "ipython3",
   "version": "3.8.10"
  }
 },
 "nbformat": 4,
 "nbformat_minor": 5
}
